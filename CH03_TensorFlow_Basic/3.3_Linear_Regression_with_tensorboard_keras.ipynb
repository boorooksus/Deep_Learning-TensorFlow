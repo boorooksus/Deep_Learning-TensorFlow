{
 "cells": [
  {
   "cell_type": "code",
   "execution_count": 1,
   "source": [
    "import tensorflow as tf"
   ],
   "outputs": [],
   "metadata": {
    "pycharm": {
     "is_executing": true
    }
   }
  },
  {
   "cell_type": "markdown",
   "source": [
    "#### 선형회귀 모델 정의"
   ],
   "metadata": {}
  },
  {
   "cell_type": "code",
   "execution_count": 2,
   "source": [
    "class LinearRegression(tf.keras.Model):\r\n",
    "    def __init__(self):\r\n",
    "        super(LinearRegression, self).__init__()\r\n",
    "        self.linear_layer = tf.keras.layers.Dense(1, activation=None)\r\n",
    "        \r\n",
    "    def call(self, x):\r\n",
    "        y_pred = self.linear_layer(x)\r\n",
    "        \r\n",
    "        return y_pred\r\n"
   ],
   "outputs": [],
   "metadata": {
    "pycharm": {
     "is_executing": true,
     "name": "#%%\n"
    }
   }
  },
  {
   "cell_type": "markdown",
   "source": [
    "#### 손실 함수 정의\n",
    "MSE 손실함수\n",
    "mean{(y' - y)^2}"
   ],
   "metadata": {}
  },
  {
   "cell_type": "code",
   "execution_count": 3,
   "source": [
    "@tf.function\r\n",
    "def mse_loss(y_pred, y):\r\n",
    "    return tf.reduce_mean(tf.square(y_pred - y))"
   ],
   "outputs": [],
   "metadata": {}
  },
  {
   "cell_type": "markdown",
   "source": [
    "#### 옵티마이저 정의"
   ],
   "metadata": {}
  },
  {
   "cell_type": "code",
   "execution_count": 4,
   "source": [
    "optimizer = tf.optimizers.SGD(0.01)"
   ],
   "outputs": [],
   "metadata": {}
  },
  {
   "cell_type": "markdown",
   "source": [
    "#### 텐서보드 기록 경로 설정 및 FileWriter 선언"
   ],
   "metadata": {}
  },
  {
   "cell_type": "code",
   "execution_count": 5,
   "source": [
    "summary_writer = tf.summary.create_file_writer('./tensorboard_log')"
   ],
   "outputs": [],
   "metadata": {}
  },
  {
   "cell_type": "markdown",
   "source": [
    "#### 최적화 위한 function 정의"
   ],
   "metadata": {}
  },
  {
   "cell_type": "code",
   "execution_count": 6,
   "source": [
    "@tf.function\r\n",
    "def train_step(model, x, y):\r\n",
    "    with tf.GradientTape() as tape:\r\n",
    "        y_pred = model(x)\r\n",
    "        loss = mse_loss(y_pred, y)\r\n",
    "    # 매 step마다 텐서보드 로그 기록\r\n",
    "    with summary_writer.as_default():\r\n",
    "        tf.summary.scalar('loss', loss, step=optimizer.iterations)\r\n",
    "    gradients = tape.gradient(loss, model.trainable_variables)\r\n",
    "    optimizer.apply_gradients(zip(gradients, model.trainable_variables))"
   ],
   "outputs": [],
   "metadata": {}
  },
  {
   "cell_type": "markdown",
   "source": [
    "#### 트레이닝 데이터셋"
   ],
   "metadata": {}
  },
  {
   "cell_type": "code",
   "execution_count": 7,
   "source": [
    "x_train = [1.0, 2.0, 3.0, 4.0]\r\n",
    "y_train = [2.0, 4.0, 6.0, 8.0]\r\n",
    "\r\n",
    "# batch 형태로 가져오기\r\n",
    "train_data = tf.data.Dataset.from_tensor_slices((x_train, y_train))\r\n",
    "train_data = train_data.repeat().batch(1)\r\n",
    "train_data_iter = iter(train_data)"
   ],
   "outputs": [],
   "metadata": {}
  },
  {
   "cell_type": "markdown",
   "source": [
    "#### 모델 선언"
   ],
   "metadata": {}
  },
  {
   "cell_type": "code",
   "execution_count": 8,
   "source": [
    "LinearRegression_model = LinearRegression()"
   ],
   "outputs": [],
   "metadata": {}
  },
  {
   "cell_type": "markdown",
   "source": [
    "#### 경사하강법 수행"
   ],
   "metadata": {}
  },
  {
   "cell_type": "code",
   "execution_count": 9,
   "source": [
    "for i in range(1000):\r\n",
    "    batch_xs, batch_ys = next(train_data_iter)\r\n",
    "    # tf.kears.layers.Dense API의 최소 input dimension인 2-dimension 맞추기 위한 확장\r\n",
    "    batch_xs = tf.expand_dims(batch_xs, 0)\r\n",
    "    train_step(LinearRegression_model, batch_xs, batch_ys)\r\n",
    "    print('batch' + i +': training...')"
   ],
   "outputs": [],
   "metadata": {}
  },
  {
   "cell_type": "markdown",
   "source": [
    "#### 테스트 데이터셋"
   ],
   "metadata": {}
  },
  {
   "cell_type": "code",
   "execution_count": 10,
   "source": [
    "x_test = [3.5, 5.0, 5.5, 6.0]\r\n",
    "test_data = tf.data.Dataset.from_tensor_slices((x_test))\r\n",
    "test_data = test_data.batch(1)"
   ],
   "outputs": [],
   "metadata": {}
  },
  {
   "cell_type": "markdown",
   "source": [
    "#### 측정"
   ],
   "metadata": {}
  },
  {
   "cell_type": "code",
   "execution_count": 11,
   "source": [
    "for batch_x_test in test_data:\r\n",
    "    batch_x_test = tf.expand_dims(batch_x_test, 0)\r\n",
    "    \r\n",
    "    print(tf.squeeze(LinearRegression_model(batch_x_test), 0).numpy())"
   ],
   "outputs": [
    {
     "output_type": "stream",
     "name": "stdout",
     "text": [
      "[6.9982867]\n",
      "[9.98918]\n",
      "[10.986144]\n",
      "[11.9831085]\n"
     ]
    }
   ],
   "metadata": {}
  }
 ],
 "metadata": {
  "kernelspec": {
   "name": "python3",
   "display_name": "Python 3.8.8 64-bit ('base': conda)"
  },
  "language_info": {
   "codemirror_mode": {
    "name": "ipython",
    "version": 3
   },
   "file_extension": ".py",
   "mimetype": "text/x-python",
   "name": "python",
   "nbconvert_exporter": "python",
   "pygments_lexer": "ipython3",
   "version": "3.8.8"
  },
  "interpreter": {
   "hash": "b3ba2566441a7c06988d0923437866b63cedc61552a5af99d1f4fb67d367b25f"
  }
 },
 "nbformat": 4,
 "nbformat_minor": 5
}