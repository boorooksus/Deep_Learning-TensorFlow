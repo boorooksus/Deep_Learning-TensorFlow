{
 "cells": [
  {
   "cell_type": "code",
   "execution_count": 13,
   "id": "4e8378cb",
   "metadata": {
    "pycharm": {
     "is_executing": true
    }
   },
   "outputs": [],
   "source": [
    "import tensorflow as tf"
   ]
  },
  {
   "cell_type": "markdown",
   "id": "59feb606",
   "metadata": {},
   "source": [
    "#### 선형회귀 모델 정의"
   ]
  },
  {
   "cell_type": "code",
   "execution_count": 14,
   "id": "52f4955d",
   "metadata": {
    "pycharm": {
     "is_executing": true,
     "name": "#%%\n"
    }
   },
   "outputs": [],
   "source": [
    "class LinearRegression(tf.keras.Model):\n",
    "    def __init__(self):\n",
    "        super(LinearRegression, self).__init__()\n",
    "        self.linear_layer = tf.keras.layers.Dense(1, activation=None)\n",
    "        \n",
    "    def call(self, x):\n",
    "        y_pred = self.linear_layer(x)\n",
    "        \n",
    "        return y_pred\n"
   ]
  },
  {
   "cell_type": "markdown",
   "id": "7938e329",
   "metadata": {},
   "source": [
    "#### 손실 함수 정의\n",
    "MSE 손실함수\n",
    "mean{(y' - y)^2}"
   ]
  },
  {
   "cell_type": "code",
   "execution_count": 15,
   "id": "254d785c",
   "metadata": {},
   "outputs": [],
   "source": [
    "@tf.function\n",
    "def mse_loss(y_pred, y):\n",
    "    return tf.reduce_mean(tf.square(y_pred - y))"
   ]
  },
  {
   "cell_type": "markdown",
   "id": "499b721e",
   "metadata": {},
   "source": [
    "#### 옵티마이저 정의"
   ]
  },
  {
   "cell_type": "code",
   "execution_count": 16,
   "id": "1d185e33",
   "metadata": {},
   "outputs": [],
   "source": [
    "optimizer = tf.optimizers.SGD(0.01)"
   ]
  },
  {
   "cell_type": "markdown",
   "id": "32aede1d",
   "metadata": {},
   "source": [
    "#### 텐서보드 기록 경로 설정 및 FileWriter 선언"
   ]
  },
  {
   "cell_type": "code",
   "execution_count": 17,
   "id": "5120d432",
   "metadata": {},
   "outputs": [],
   "source": [
    "summary_writer = tf.summary.create_file_writer('./tensorboard_log')"
   ]
  },
  {
   "cell_type": "markdown",
   "id": "26b95b82",
   "metadata": {},
   "source": [
    "#### 최적화 위한 function 정의"
   ]
  },
  {
   "cell_type": "code",
   "execution_count": 18,
   "id": "427d627c",
   "metadata": {},
   "outputs": [],
   "source": [
    "@tf.function\n",
    "def train_step(model, x, y):\n",
    "    with tf.GradientTape() as tape:\n",
    "        y_pred = model(x)\n",
    "        loss = mse_loss(y_pred, y)\n",
    "    # 매 step마다 텐서보드 로그 기록\n",
    "    with summary_writer.as_default():\n",
    "        tf.summary.scalar('loss', loss, step=optimizer.iterations)\n",
    "    gradients = tape.gradient(loss, model.trainable_variables)\n",
    "    optimizer.apply_gradients(zip(gradients, model.trainable_variables))"
   ]
  },
  {
   "cell_type": "markdown",
   "id": "4dfc1fa2",
   "metadata": {},
   "source": [
    "#### 트레이닝 데이터셋"
   ]
  },
  {
   "cell_type": "code",
   "execution_count": 19,
   "id": "9e971957",
   "metadata": {},
   "outputs": [],
   "source": [
    "x_train = [1.0, 2.0, 3.0, 4.0]\n",
    "y_train = [2.0, 4.0, 6.0, 8.0]\n",
    "\n",
    "# batch 형태로 가져오기\n",
    "train_data = tf.data.Dataset.from_tensor_slices((x_train, y_train))\n",
    "train_data = train_data.repeat().batch(1)\n",
    "train_data_iter = iter(train_data)"
   ]
  },
  {
   "cell_type": "markdown",
   "id": "a11d9985",
   "metadata": {},
   "source": [
    "#### 모델 선언"
   ]
  },
  {
   "cell_type": "code",
   "execution_count": 20,
   "id": "f6afe0c2",
   "metadata": {},
   "outputs": [],
   "source": [
    "LinearRegression_model = LinearRegression()"
   ]
  },
  {
   "cell_type": "markdown",
   "id": "e7b207ec",
   "metadata": {},
   "source": [
    "#### 경사하강법 수행"
   ]
  },
  {
   "cell_type": "code",
   "execution_count": 21,
   "id": "6d7f2312",
   "metadata": {},
   "outputs": [],
   "source": [
    "for i in range(1000):\n",
    "    batch_xs, batch_ys = next(train_data_iter)\n",
    "    # tf.kears.layers.Dense API의 최소 input dimension인 2-dimension 맞추기 위한 확장\n",
    "    batch_xs = tf.expand_dims(batch_xs, 0)\n",
    "    train_step(LinearRegression_model, batch_xs, batch_ys)"
   ]
  },
  {
   "cell_type": "markdown",
   "id": "44a9d16c",
   "metadata": {},
   "source": [
    "#### 테스트 데이터셋"
   ]
  },
  {
   "cell_type": "code",
   "execution_count": 22,
   "id": "0255fe1e",
   "metadata": {},
   "outputs": [],
   "source": [
    "x_test = [3.5, 5.0, 5.5, 6.0]\n",
    "test_data = tf.data.Dataset.from_tensor_slices((x_test))\n",
    "test_data = test_data.batch(1)"
   ]
  },
  {
   "cell_type": "markdown",
   "id": "685b1cf4",
   "metadata": {},
   "source": [
    "#### 측정"
   ]
  },
  {
   "cell_type": "code",
   "execution_count": 23,
   "id": "f44b25da",
   "metadata": {},
   "outputs": [
    {
     "name": "stdout",
     "output_type": "stream",
     "text": [
      "[6.9976463]\n",
      "[9.985136]\n",
      "[10.980967]\n",
      "[11.976796]\n"
     ]
    }
   ],
   "source": [
    "for batch_x_test in test_data:\n",
    "    batch_x_test = tf.expand_dims(batch_x_test, 0)\n",
    "    \n",
    "    print(tf.squeeze(LinearRegression_model(batch_x_test), 0).numpy())"
   ]
  }
 ],
 "metadata": {
  "kernelspec": {
   "display_name": "Python 3",
   "language": "python",
   "name": "python3"
  },
  "language_info": {
   "codemirror_mode": {
    "name": "ipython",
    "version": 3
   },
   "file_extension": ".py",
   "mimetype": "text/x-python",
   "name": "python",
   "nbconvert_exporter": "python",
   "pygments_lexer": "ipython3",
   "version": "3.8.8"
  }
 },
 "nbformat": 4,
 "nbformat_minor": 5
}
