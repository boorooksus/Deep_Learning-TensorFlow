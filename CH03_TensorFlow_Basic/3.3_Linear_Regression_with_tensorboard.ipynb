{
 "cells": [
  {
   "cell_type": "code",
   "execution_count": 1,
   "id": "03ecf264",
   "metadata": {
    "pycharm": {
     "is_executing": true
    }
   },
   "outputs": [],
   "source": [
    "import tensorflow as tf"
   ]
  },
  {
   "cell_type": "markdown",
   "id": "dfc3d48e",
   "metadata": {},
   "source": [
    "#### 선형 회귀 모델 정의"
   ]
  },
  {
   "cell_type": "code",
   "execution_count": 2,
   "id": "c9067f1d",
   "metadata": {
    "pycharm": {
     "is_executing": true
    }
   },
   "outputs": [],
   "source": [
    "W = tf.Variable(tf.random.normal(shape=[1]))\n",
    "b = tf.Variable(tf.random.normal(shape=[1]))\n",
    "\n",
    "@tf.function\n",
    "def linear_model(x):\n",
    "    return W*x + b"
   ]
  },
  {
   "cell_type": "markdown",
   "id": "021b895e",
   "metadata": {},
   "source": [
    "#### 손실 함수 정의\n",
    "평균제곱오차(MSE) 손실 함수"
   ]
  },
  {
   "cell_type": "code",
   "execution_count": 3,
   "id": "b39336e3",
   "metadata": {
    "pycharm": {
     "is_executing": true
    }
   },
   "outputs": [],
   "source": [
    "@tf.function\n",
    "def mse_loss(y_pred, y):\n",
    "    return tf.reduce_mean(tf.square(y_pred - y))"
   ]
  },
  {
   "cell_type": "markdown",
   "id": "d91fb9f9",
   "metadata": {},
   "source": [
    "#### 옵티마이저 정의\n",
    "Gradient Descent, Learning rate=0.01"
   ]
  },
  {
   "cell_type": "code",
   "execution_count": 4,
   "id": "71c71295",
   "metadata": {},
   "outputs": [],
   "source": [
    "optimizer = tf.optimizers.SGD(0.01)"
   ]
  },
  {
   "cell_type": "markdown",
   "id": "cdeb052f",
   "metadata": {},
   "source": [
    "### 텐서보드 summary 정보 저장할 경로 설정"
   ]
  },
  {
   "cell_type": "code",
   "execution_count": 5,
   "id": "188532d3",
   "metadata": {},
   "outputs": [],
   "source": [
    "summary_writer = tf.summary.create_file_writer('./tensorboard_log')"
   ]
  },
  {
   "cell_type": "markdown",
   "id": "d9211547",
   "metadata": {},
   "source": [
    "#### 파라미터 최적화 \n",
    "### + 요약 정보 로그 기록"
   ]
  },
  {
   "cell_type": "code",
   "execution_count": 9,
   "id": "56d1e4bd",
   "metadata": {
    "pycharm": {
     "is_executing": true
    }
   },
   "outputs": [],
   "source": [
    "@tf.function\n",
    "def train_step(x, y):\n",
    "    with tf.GradientTape() as tape:\n",
    "        y_pred = linear_model(x)\n",
    "        loss = mse_loss(y_pred, y)\n",
    "        \n",
    "    with summary_writer.as_default():\n",
    "        tf.summary.scalar('loss', loss, step=optimizer.iterations)\n",
    "    \n",
    "    gradients = tape.gradient(loss, [W, b])\n",
    "    optimizer.apply_gradients(zip(gradients, [W, b]))"
   ]
  },
  {
   "cell_type": "markdown",
   "id": "d30a015c",
   "metadata": {},
   "source": [
    "#### 트레이닝"
   ]
  },
  {
   "cell_type": "code",
   "execution_count": 7,
   "id": "3b389c3e",
   "metadata": {
    "pycharm": {
     "is_executing": true,
     "name": "#%%\n"
    }
   },
   "outputs": [],
   "source": [
    "x_train = [1, 2, 3, 4]\n",
    "y_train = [2, 4, 6, 8]\n",
    "\n",
    "for i in range(1000):\n",
    "    train_step(x_train, y_train)"
   ]
  },
  {
   "cell_type": "markdown",
   "id": "f682cf25",
   "metadata": {},
   "source": [
    "#### 테스트"
   ]
  },
  {
   "cell_type": "code",
   "execution_count": 8,
   "id": "5bd8cb48",
   "metadata": {
    "pycharm": {
     "is_executing": true,
     "name": "#%%\n"
    }
   },
   "outputs": [
    {
     "name": "stdout",
     "output_type": "stream",
     "text": [
      "[ 6.9922566  9.971512  10.964597  11.957682 ]\n"
     ]
    }
   ],
   "source": [
    "x_test = [3.5, 5, 5.5, 6]\n",
    "\n",
    "print(linear_model(x_test).numpy())"
   ]
  },
  {
   "cell_type": "code",
   "execution_count": null,
   "id": "a9ce8f31",
   "metadata": {},
   "outputs": [],
   "source": []
  }
 ],
 "metadata": {
  "kernelspec": {
   "display_name": "Python 3",
   "language": "python",
   "name": "python3"
  },
  "language_info": {
   "codemirror_mode": {
    "name": "ipython",
    "version": 3
   },
   "file_extension": ".py",
   "mimetype": "text/x-python",
   "name": "python",
   "nbconvert_exporter": "python",
   "pygments_lexer": "ipython3",
   "version": "3.8.8"
  }
 },
 "nbformat": 4,
 "nbformat_minor": 5
}
