{
 "cells": [
  {
   "cell_type": "code",
   "execution_count": null,
   "id": "0893ea49",
   "metadata": {
    "pycharm": {
     "is_executing": true
    }
   },
   "outputs": [],
   "source": [
    "import tensorflow as tf\n",
    "import numpy as np"
   ]
  },
  {
   "cell_type": "code",
   "execution_count": 5,
   "id": "d2fddd83",
   "metadata": {},
   "outputs": [],
   "source": [
    "@tf.function\n",
    "def add_two_values(x, y):\n",
    "  return x + y"
   ]
  },
  {
   "cell_type": "code",
   "execution_count": 6,
   "id": "37151366",
   "metadata": {},
   "outputs": [
    {
     "name": "stdout",
     "output_type": "stream",
     "text": [
      "7.5\n",
      "[3 7]\n"
     ]
    }
   ],
   "source": [
    "print(add_two_values(3, 4.5).numpy())\n",
    "print(add_two_values(np.array([1, 3]), np.array([2, 4])).numpy())"
   ]
  },
  {
   "cell_type": "code",
   "execution_count": 7,
   "id": "7181e479",
   "metadata": {},
   "outputs": [],
   "source": [
    "@tf.function\n",
    "def add_two_values_and_multiply_three(x, y):\n",
    "  return 3 * add_two_values(x, y)"
   ]
  },
  {
   "cell_type": "code",
   "execution_count": 8,
   "id": "0be3575a",
   "metadata": {},
   "outputs": [
    {
     "name": "stdout",
     "output_type": "stream",
     "text": [
      "22.5\n"
     ]
    }
   ],
   "source": [
    "print(add_two_values_and_multiply_three(3, 4.5).numpy())"
   ]
  },
  {
   "cell_type": "code",
   "execution_count": null,
   "id": "6df403b4",
   "metadata": {},
   "outputs": [],
   "source": []
  }
 ],
 "metadata": {
  "kernelspec": {
   "name": "pycharm-af06dca1",
   "language": "python",
   "display_name": "PyCharm (Deep_Learning-TensorFlow)"
  },
  "language_info": {
   "codemirror_mode": {
    "name": "ipython",
    "version": 3
   },
   "file_extension": ".py",
   "mimetype": "text/x-python",
   "name": "python",
   "nbconvert_exporter": "python",
   "pygments_lexer": "ipython3",
   "version": "3.8.8"
  }
 },
 "nbformat": 4,
 "nbformat_minor": 5
}