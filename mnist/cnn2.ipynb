{
 "cells": [
  {
   "cell_type": "markdown",
   "metadata": {},
   "source": [
    "### 참고자료\n",
    "https://laboputer.github.io/machine-learning/2020/03/12/mnist995/"
   ]
  },
  {
   "cell_type": "code",
   "execution_count": 79,
   "metadata": {},
   "outputs": [],
   "source": [
    "import tensorflow as tf\n",
    "import numpy as np\n",
    "import matplotlib.pyplot as plt\n",
    "import random"
   ]
  },
  {
   "cell_type": "code",
   "execution_count": 80,
   "metadata": {},
   "outputs": [],
   "source": [
    "# --------------\n",
    "# 데이터 불러오기\n",
    "# --------------\n",
    "\n",
    "(x_train, y_train), (x_test, y_test) = tf.keras.datasets.mnist.load_data()\n",
    "\n",
    "# 각종 파라메터의 영향을 보기 위해 랜덤값 고정\n",
    "tf.random.set_seed(1234)"
   ]
  },
  {
   "cell_type": "code",
   "execution_count": 81,
   "metadata": {},
   "outputs": [
    {
     "name": "stdout",
     "output_type": "stream",
     "text": [
      "Y[9497] :  6\n"
     ]
    },
    {
     "data": {
      "text/plain": [
       "<matplotlib.image.AxesImage at 0x2891b5ecc70>"
      ]
     },
     "execution_count": 81,
     "metadata": {},
     "output_type": "execute_result"
    },
    {
     "data": {
      "image/png": "[encoded data removed]",
      "text/plain": [
       "<Figure size 432x288 with 1 Axes>"
      ]
     },
     "metadata": {
      "needs_background": "light"
     },
     "output_type": "display_data"
    }
   ],
   "source": [
    "r = random.randint(0, len(x_test)-1) # 0~9999까지 랜덤한 정수\n",
    "print(\"Y[%d] : \"%r,  y_train[r])\n",
    "plt.imshow(x_train[r], cmap=plt.cm.gray_r, interpolation = \"nearest\")"
   ]
  },
  {
   "cell_type": "code",
   "execution_count": 82,
   "metadata": {},
   "outputs": [],
   "source": [
    "# 데이터 전처리\n",
    "# Normalizing\n",
    "# 28x28개의 각 픽셀을 0~255 값으로 구성\n",
    "x_train, x_test = x_train / 255.0, x_test / 255.0\n",
    "\n",
    "# (60000, 28, 28) => (60000, 28, 28, 1)로 reshape\n",
    "x_train = x_train.reshape(-1, 28, 28, 1)\n",
    "x_test = x_test.reshape(-1, 28, 28, 1)\n",
    "\n",
    "# one-hot encoding\n",
    "y_train = tf.keras.utils.to_categorical(y_train, 10)\n",
    "y_test = tf.keras.utils.to_categorical(y_test, 10)"
   ]
  },
  {
   "cell_type": "code",
   "execution_count": 83,
   "metadata": {},
   "outputs": [
    {
     "name": "stderr",
     "output_type": "stream",
     "text": [
      "C:\\Users\\Lab01\\AppData\\Roaming\\Python\\Python38\\site-packages\\keras\\optimizer_v2\\optimizer_v2.py:355: UserWarning: The `lr` argument is deprecated, use `learning_rate` instead.\n",
      "  warnings.warn(\n"
     ]
    },
    {
     "name": "stdout",
     "output_type": "stream",
     "text": [
      "Model: \"sequential_1\"\n",
      "_________________________________________________________________\n",
      "Layer (type)                 Output Shape              Param #   \n",
      "=================================================================\n",
      "conv2d_4 (Conv2D)            (None, 28, 28, 64)        640       \n",
      "_________________________________________________________________\n",
      "conv2d_5 (Conv2D)            (None, 28, 28, 64)        36928     \n",
      "_________________________________________________________________\n",
      "max_pooling2d_2 (MaxPooling2 (None, 14, 14, 64)        0         \n",
      "_________________________________________________________________\n",
      "conv2d_6 (Conv2D)            (None, 14, 14, 128)       73856     \n",
      "_________________________________________________________________\n",
      "conv2d_7 (Conv2D)            (None, 12, 12, 256)       295168    \n",
      "_________________________________________________________________\n",
      "max_pooling2d_3 (MaxPooling2 (None, 6, 6, 256)         0         \n",
      "_________________________________________________________________\n",
      "flatten_1 (Flatten)          (None, 9216)              0         \n",
      "_________________________________________________________________\n",
      "dense_3 (Dense)              (None, 512)               4719104   \n",
      "_________________________________________________________________\n",
      "dropout_2 (Dropout)          (None, 512)               0         \n",
      "_________________________________________________________________\n",
      "dense_4 (Dense)              (None, 256)               131328    \n",
      "_________________________________________________________________\n",
      "dropout_3 (Dropout)          (None, 256)               0         \n",
      "_________________________________________________________________\n",
      "dense_5 (Dense)              (None, 10)                2570      \n",
      "=================================================================\n",
      "Total params: 5,259,594\n",
      "Trainable params: 5,259,594\n",
      "Non-trainable params: 0\n",
      "_________________________________________________________________\n",
      "Epoch 1/10\n",
      "600/600 [==============================] - 112s 187ms/step - loss: 0.1856 - accuracy: 0.9424 - val_loss: 0.0417 - val_accuracy: 0.9868\n",
      "Epoch 2/10\n",
      "600/600 [==============================] - 110s 184ms/step - loss: 0.0546 - accuracy: 0.9848 - val_loss: 0.0270 - val_accuracy: 0.9909\n",
      "Epoch 3/10\n",
      "600/600 [==============================] - 109s 181ms/step - loss: 0.0401 - accuracy: 0.9889 - val_loss: 0.0308 - val_accuracy: 0.9911\n",
      "Epoch 4/10\n",
      "600/600 [==============================] - 109s 182ms/step - loss: 0.0319 - accuracy: 0.9910 - val_loss: 0.0187 - val_accuracy: 0.9942\n",
      "Epoch 5/10\n",
      "600/600 [==============================] - 111s 185ms/step - loss: 0.0268 - accuracy: 0.9921 - val_loss: 0.0232 - val_accuracy: 0.9932\n",
      "Epoch 6/10\n",
      "600/600 [==============================] - 110s 184ms/step - loss: 0.0244 - accuracy: 0.9932 - val_loss: 0.0187 - val_accuracy: 0.9943\n",
      "Epoch 7/10\n",
      "600/600 [==============================] - 108s 180ms/step - loss: 0.0185 - accuracy: 0.9947 - val_loss: 0.0284 - val_accuracy: 0.9921\n",
      "Epoch 8/10\n",
      "600/600 [==============================] - 109s 182ms/step - loss: 0.0186 - accuracy: 0.9942 - val_loss: 0.0279 - val_accuracy: 0.9930\n",
      "Epoch 9/10\n",
      "600/600 [==============================] - 111s 185ms/step - loss: 0.0152 - accuracy: 0.9957 - val_loss: 0.0307 - val_accuracy: 0.9942\n",
      "Epoch 10/10\n",
      "600/600 [==============================] - 113s 188ms/step - loss: 0.0156 - accuracy: 0.9953 - val_loss: 0.0195 - val_accuracy: 0.9945\n"
     ]
    },
    {
     "data": {
      "text/plain": [
       "<keras.callbacks.History at 0x2891b4cc790>"
      ]
     },
     "execution_count": 83,
     "metadata": {},
     "output_type": "execute_result"
    }
   ],
   "source": [
    "# -----------------------\n",
    "# 모델 생성 및 학습\n",
    "# -----------------------\n",
    "\n",
    "model = tf.keras.Sequential([\n",
    "    tf.keras.layers.Conv2D(kernel_size=(3,3), filters=64, input_shape=(28,28,1), padding='same', activation='relu'),\n",
    "    tf.keras.layers.Conv2D(kernel_size=(3,3), filters=64, padding='same', activation='relu'),\n",
    "    tf.keras.layers.MaxPool2D(pool_size=(2,2)),\n",
    "\n",
    "    tf.keras.layers.Conv2D(kernel_size=(3,3), filters=128, padding='same', activation='relu'),\n",
    "    tf.keras.layers.Conv2D(kernel_size=(3,3), filters=256, padding='valid', activation='relu'),\n",
    "    tf.keras.layers.MaxPool2D(pool_size=(2,2)),\n",
    "\n",
    "    tf.keras.layers.Flatten(),\n",
    "    tf.keras.layers.Dense(units=512, activation='relu'),\n",
    "    tf.keras.layers.Dropout(0.5),\n",
    "    tf.keras.layers.Dense(units=256, activation='relu'),\n",
    "    tf.keras.layers.Dropout(0.5),\n",
    "    tf.keras.layers.Dense(units=10, activation='softmax')\n",
    "])\n",
    "\n",
    "model.compile(loss='categorical_crossentropy', optimizer=tf.optimizers.Adam(lr=0.001), metrics=['accuracy'])\n",
    "model.summary()\n",
    "\n",
    "model.fit(x_train, y_train, batch_size=100, epochs=10, validation_data=(x_test, y_test))\n",
    "\n"
   ]
  },
  {
   "cell_type": "code",
   "execution_count": 84,
   "metadata": {},
   "outputs": [
    {
     "name": "stdout",
     "output_type": "stream",
     "text": [
      "313/313 [==============================] - 5s 16ms/step - loss: 0.0195 - accuracy: 0.9945\n",
      "최종 예측 성공률(%):  99.44999814033508\n"
     ]
    }
   ],
   "source": [
    "result = model.evaluate(x_test, y_test)\n",
    "print(\"최종 예측 성공률(%): \", result[1]*100)"
   ]
  },
  {
   "cell_type": "code",
   "execution_count": 85,
   "metadata": {},
   "outputs": [
    {
     "data": {
      "image/png": "[encoded data removed]",
      "text/plain": [
       "<Figure size 432x288 with 1 Axes>"
      ]
     },
     "metadata": {
      "needs_background": "light"
     },
     "output_type": "display_data"
    },
    {
     "name": "stdout",
     "output_type": "stream",
     "text": [
      "predict: 6\n",
      "answer: 6\n"
     ]
    }
   ],
   "source": [
    "# -----------------------\n",
    "# 랜덤으로 숫자 뽑아서 test\n",
    "# -----------------------\n",
    "\n",
    "r = random.randint(0, len(x_test)-1) # 0~9999까지 랜덤한 정수\n",
    "plt.imshow(x_test[r].reshape(28, 28), cmap='Greys', interpolation='nearest')\n",
    "plt.show()\n",
    "print(\"predict:\", np.argmax(model.predict(x_test[r].reshape((1, 28, 28, 1)))))\n",
    "print('answer:', np.argmax(y_test[r]))\n"
   ]
  },
  {
   "cell_type": "code",
   "execution_count": 86,
   "metadata": {},
   "outputs": [],
   "source": [
    "# -----------------------\n",
    "# 오답 샘플 출력\n",
    "# -----------------------\n",
    "\n",
    "wrongs = []\n",
    "\n",
    "for i in range(len(x_test)):\n",
    "    predict = np.argmax(model.predict(x_test[i].reshape((1, 28, 28, 1))))\n",
    "    label = np.argmax(y_test[i])\n",
    "    if predict != label:\n",
    "        wrongs.append(i)\n"
   ]
  },
  {
   "cell_type": "code",
   "execution_count": 96,
   "metadata": {},
   "outputs": [
    {
     "data": {
      "image/png": "[encoded data removed]",
      "text/plain": [
       "<Figure size 864x864 with 9 Axes>"
      ]
     },
     "metadata": {
      "needs_background": "light"
     },
     "output_type": "display_data"
    }
   ],
   "source": [
    "rows = 3\n",
    "columns = 3\n",
    "fig=plt.figure(figsize=(12,12))\n",
    "axes = []\n",
    "\n",
    "for i in range(rows * columns):\n",
    "    r = random.randint(0, len(wrongs)-1)\n",
    "    predict = np.argmax(model.predict(x_test[wrongs[r]].reshape((1, 28, 28, 1))))\n",
    "    label = np.argmax(y_test[wrongs[r]])\n",
    "    img = x_test[wrongs[r]].reshape(28, 28)\n",
    "    title = 'predict: % d, label: %d'%(predict, label)\n",
    "    \n",
    "    ax = fig.add_subplot(rows, columns, i + 1)\n",
    "    ax.imshow(img, cmap='Greys', interpolation='nearest', aspect='auto')\n",
    "    # ax.set_title(title, fontsize=20)\n",
    "    ax.set_xlabel(title, fontsize=18)\n",
    "\n",
    "\n",
    "plt.subplots_adjust(hspace=0.35)\n",
    "# plt.subplots(constrained_layout=True)\n",
    "plt.show()"
   ]
  },
  {
   "cell_type": "code",
   "execution_count": null,
   "metadata": {},
   "outputs": [],
   "source": []
  }
 ],
 "metadata": {
  "interpreter": {
   "hash": "b3ba2566441a7c06988d0923437866b63cedc61552a5af99d1f4fb67d367b25f"
  },
  "kernelspec": {
   "display_name": "Python 3.8.8 64-bit ('base': conda)",
   "language": "python",
   "name": "python3"
  },
  "language_info": {
   "codemirror_mode": {
    "name": "ipython",
    "version": 3
   },
   "file_extension": ".py",
   "mimetype": "text/x-python",
   "name": "python",
   "nbconvert_exporter": "python",
   "pygments_lexer": "ipython3",
   "version": "3.8.8"
  },
  "orig_nbformat": 4
 },
 "nbformat": 4,
 "nbformat_minor": 2
}
